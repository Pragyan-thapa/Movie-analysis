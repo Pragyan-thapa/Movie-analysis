{
 "cells": [
  {
   "cell_type": "code",
   "execution_count": null,
   "id": "a4f12695",
   "metadata": {},
   "outputs": [],
   "source": [
    "import numpy as np  \n",
    "import pandas as pd \n",
    "import matplotlib.pyplot as plt\n",
    "import seaborn as sns\n",
    "\n",
    "netflix_data = pd.read_csv(\"netflix_titles.csv\")\n",
    "netflix_data\n",
    "\n",
    "\n"
   ]
  },
  {
   "cell_type": "code",
   "execution_count": null,
   "id": "fe86feaf",
   "metadata": {},
   "outputs": [],
   "source": [
    "# 1.What is the total number of movies vs TV shows?\n",
    "\n",
    "type_counts = netflix_data['type'].value_counts()\n",
    "total = len(netflix_data)\n",
    "\n",
    "fig, ax = plt.subplots()\n",
    "ax.pie(type_counts, labels=type_counts.index, autopct='%1.1f%%', startangle=90)\n",
    "ax.text(-1.2, 1.1, f'Total Titles: {total}', ha='left', va='top', fontsize=8)\n",
    "\n",
    "plt.title('Distribution of Movies vs TV Shows')\n",
    "plt.show()"
   ]
  },
  {
   "cell_type": "code",
   "execution_count": null,
   "id": "56481310",
   "metadata": {},
   "outputs": [],
   "source": [
    "# 2.What are the top 10 countries producing content for Netflix?\n",
    "top_contries = netflix_data[\"country\"].value_counts()\n",
    "top_contries.head(10)"
   ]
  },
  {
   "cell_type": "code",
   "execution_count": null,
   "id": "bb1e075c",
   "metadata": {},
   "outputs": [],
   "source": [
    "# 3.Which directors have the most titles on Netflix?\n",
    "top_directors = netflix_data[\"director\"].value_counts()\n",
    "top_directors.head(10)\n"
   ]
  },
  {
   "cell_type": "code",
   "execution_count": null,
   "id": "4e9edcb0",
   "metadata": {},
   "outputs": [],
   "source": [
    "# Time-Based Analysis:\n",
    "# 1.How has Netflix's content grown over the years (e.g., content added per year)?\n",
    "# 2.Which year had the most releases added to Netflix?\n",
    "\n",
    "content_added_date = netflix_data[\"date_added\"]\n",
    "cleand_added_date = pd.to_datetime(content_added_date.dropna().str.strip()) \n",
    "year_added = cleand_added_date.dt.year.value_counts().sort_index()\n",
    "year_added.plot(kind=\"line\",color=\"red\",marker=\"o\",title=\"Content Added Per Year\",xlabel=\"YEAR\",ylabel=\"Content Added\")\n",
    "plt.xticks(rotation=45)\n",
    "plt.grid()\n",
    "plt.tight_layout()\n",
    "plt.show()\n"
   ]
  },
  {
   "cell_type": "code",
   "execution_count": null,
   "id": "68fd3a2b",
   "metadata": {},
   "outputs": [],
   "source": [
    "# Age Rating Insights:\n",
    "# 1. What are the most common ratings given to shows?\n",
    "# 2. How many shows are rated \"TV-MA\" vs \"PG-13\"?\n",
    "ratings_netflix = netflix_data[\"rating\"]\n",
    "ratings_count = ratings_netflix.value_counts()\n",
    "ratings_count"
   ]
  },
  {
   "cell_type": "code",
   "execution_count": null,
   "id": "fec917d3",
   "metadata": {},
   "outputs": [],
   "source": [
    "# Country-Specific Analysis:\n",
    "# 1. What are the top genres in the USA vs India vs the UK?\n",
    "# 2. How many titles were added in 2020 from each country?\n",
    "from collections import Counter\n",
    "country_genre = netflix_data[[\"country\",\"listed_in\"]]\n",
    "\n",
    "\n",
    "def genre_counts_by_country(df, country_name):\n",
    "    # Filter entries for the specified country\n",
    "    country_df = df[df['country'] == country_name]\n",
    "    \n",
    "    # Join all genre strings, split into individual genres\n",
    "    genres = ', '.join(country_df['listed_in'].dropna()).split(', ')\n",
    "    \n",
    "    return Counter(genres).most_common(5)\n",
    "\n",
    "# Apply to each country\n",
    "usa_top_genres = genre_counts_by_country(country_genre, 'United States')\n",
    "uk_top_genres = genre_counts_by_country(country_genre, 'United Kingdom')\n",
    "india_top_genres = genre_counts_by_country(country_genre, 'India')\n",
    "\n",
    "print(\"🇺🇸 United States:\", usa_top_genres)\n",
    "print(\"🇬🇧 United Kingdom:\", uk_top_genres)\n",
    "print(\"🇮🇳 India:\", india_top_genres)\n"
   ]
  },
  {
   "cell_type": "code",
   "execution_count": null,
   "id": "f3127ca0",
   "metadata": {},
   "outputs": [],
   "source": [
    "\n",
    "new_df = netflix_data[[\"country\",\"date_added\"]]\n",
    "new_df['date_added'] = pd.to_datetime(new_df['date_added'], errors='coerce')\n",
    "df_2020 = new_df[new_df['date_added'].dt.year == 2020]\n",
    "country_counts_2020 = df_2020['country'].value_counts(dropna=False)\n",
    "\n",
    "print(country_counts_2020)"
   ]
  },
  {
   "cell_type": "code",
   "execution_count": null,
   "id": "1258f1be",
   "metadata": {},
   "outputs": [],
   "source": [
    "# Advanced Filtering:\n",
    "# 1. List all movies with a duration greater than 2 hours.\n",
    "\n",
    "video_duration = netflix_data[[\"title\",\"duration\",\"type\"]]\n",
    "movie_duration = video_duration[video_duration[\"type\"] == \"Movie\"]\n",
    "movie_duration['duration_minutes'] = movie_duration['duration'].str.extract(r'(\\d+)').astype(float)\n",
    "long_movies = movie_duration[movie_duration['duration_minutes'] > 120]\n",
    "print(long_movies[['title', 'duration']])\n"
   ]
  },
  {
   "cell_type": "code",
   "execution_count": null,
   "id": "c2c5b547",
   "metadata": {},
   "outputs": [],
   "source": [
    "# netflix_data.columns\n",
    "# 2. Find all shows with the keyword \"crime\" in their description.\n",
    "description_filter = netflix_data[[\"title\",\"listed_in\"]]\n",
    "crime_shows = description_filter[description_filter['listed_in'].str.contains('crime', case=False, na=False)]\n",
    "crime_shows[['title', 'listed_in']]\n"
   ]
  },
  {
   "cell_type": "code",
   "execution_count": null,
   "id": "03343001",
   "metadata": {},
   "outputs": [],
   "source": [
    "# 3. Which actors appear most frequently in the dataset?\n",
    "from collections import Counter\n",
    "netflix_data.columns\n",
    "casts = netflix_data[\"cast\"]\n",
    "df_cast_clean = casts.dropna()\n",
    "\n",
    "df_cast_clean = df_cast_clean.str.split(', ')\n",
    "\n",
    "\n",
    "all_actors = [actor for cast in df_cast_clean for actor in cast]\n",
    "actor_counts = Counter(all_actors)\n",
    "most_common_actor = actor_counts.most_common(1)\n",
    "print(most_common_actor)"
   ]
  },
  {
   "cell_type": "code",
   "execution_count": null,
   "id": "bec59eba",
   "metadata": {},
   "outputs": [],
   "source": [
    "# Bar plot of content count by year.\n",
    "df_cleaned = netflix_data.dropna(subset=['release_year'])\n",
    "year_counts = df_cleaned['release_year'].value_counts().sort_index()\n",
    "\n",
    "plt.figure(figsize=(12,6))\n",
    "plt.bar(year_counts.index, year_counts.values, color='skyblue', edgecolor='black')\n",
    "plt.xlabel('Release Year')\n",
    "plt.ylabel('Number of Content')\n",
    "plt.title('Number of Content Releases by Year')\n",
    "plt.xticks(rotation=45)\n",
    "plt.tight_layout()\n",
    "plt.show()"
   ]
  },
  {
   "cell_type": "code",
   "execution_count": null,
   "id": "c552d42b",
   "metadata": {},
   "outputs": [],
   "source": [
    "# Heatmap of content release by year and country.\n",
    "\n",
    "df_cleaned = netflix_data.dropna(subset=['release_year', 'country'])\n",
    "top_countries = df_cleaned['country'].value_counts().head(10).index\n",
    "df_top = df_cleaned[df_cleaned['country'].isin(top_countries)]\n",
    "heatmap_data = df_top.groupby(['release_year', 'country']).size().unstack(fill_value=0)\n",
    "plt.figure(figsize=(14, 8))\n",
    "sns.heatmap(heatmap_data, cmap='YlOrBr', linewidths=0.5)\n",
    "\n",
    "plt.title('Content Releases by Year (Top 10 Countries)', fontsize=16)\n",
    "plt.xlabel('Country', fontsize=12)\n",
    "plt.ylabel('Release Year', fontsize=12)\n",
    "plt.xticks(rotation=45)\n",
    "plt.tight_layout()\n",
    "plt.show()"
   ]
  },
  {
   "cell_type": "code",
   "execution_count": null,
   "id": "df87f4dc",
   "metadata": {},
   "outputs": [],
   "source": [
    "df_movies = netflix_data[netflix_data['type'] == 'Movie'].dropna(subset=['duration', 'release_year'])\n",
    "df_movies['duration_min'] = df_movies['duration'].str.extract('(\\d+)').astype(float)\n",
    "\n",
    "\n",
    "plt.figure(figsize=(12, 6))\n",
    "plt.scatter(df_movies['release_year'], df_movies['duration_min'], alpha=0.5, color='teal')\n",
    "plt.title('Movie Duration vs. Release Year')\n",
    "plt.xlabel('Release Year')\n",
    "plt.ylabel('Duration (minutes)')\n",
    "plt.grid(True)\n",
    "plt.tight_layout()\n",
    "plt.show()"
   ]
  }
 ],
 "metadata": {
  "kernelspec": {
   "display_name": "Movie-analysis",
   "language": "python",
   "name": "python3"
  },
  "language_info": {
   "codemirror_mode": {
    "name": "ipython",
    "version": 3
   },
   "file_extension": ".py",
   "mimetype": "text/x-python",
   "name": "python",
   "nbconvert_exporter": "python",
   "pygments_lexer": "ipython3",
   "version": "3.12.7"
  }
 },
 "nbformat": 4,
 "nbformat_minor": 5
}
